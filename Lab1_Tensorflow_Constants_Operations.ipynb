{
  "nbformat": 4,
  "nbformat_minor": 0,
  "metadata": {
    "colab": {
      "provenance": []
    },
    "kernelspec": {
      "name": "python3",
      "display_name": "Python 3"
    },
    "language_info": {
      "name": "python"
    }
  },
  "cells": [
    {
      "cell_type": "markdown",
      "source": [
        "#  Tensorflow Constants and Operations"
      ],
      "metadata": {
        "id": "zWOau3oTcgMy"
      }
    },
    {
      "cell_type": "code",
      "source": [
        "import tensorflow as tf"
      ],
      "metadata": {
        "id": "J8AXvuGDZq-F"
      },
      "execution_count": null,
      "outputs": []
    },
    {
      "cell_type": "markdown",
      "source": [
        "# Example 1: Creating Tensors\n",
        "Let's start by creating different types of tensors."
      ],
      "metadata": {
        "id": "vdAA8JOQZaz9"
      }
    },
    {
      "cell_type": "code",
      "source": [
        "import tensorflow as tf\n",
        "\n",
        "# Scalar tensor\n",
        "scalar = tf.constant(5)\n",
        "print(\"Scalar:\", scalar)\n",
        "print('\\n')\n",
        "\n",
        "# Vector tensor\n",
        "vector = tf.constant([1, 2, 3, 4], dtype = 'float32')\n",
        "print(\"Vector:\", vector)\n",
        "print('\\n')\n",
        "\n",
        "# Matrix tensor\n",
        "matrix = tf.constant([[1, 2], [3, 4]])\n",
        "print(\"Matrix:\", matrix)\n",
        "print('\\n')\n",
        "\n",
        "# 3D Tensor\n",
        "tensor3d = tf.constant([[[1, 2], [3, 4]], [[5, 6], [7, 8]]])\n",
        "print(\"3D Tensor:\", tensor3d)\n"
      ],
      "metadata": {
        "id": "VPaXef81ZVZk"
      },
      "execution_count": null,
      "outputs": []
    },
    {
      "cell_type": "markdown",
      "source": [
        "#Example 2: Tensor Operations\n",
        "Performing basic operations on tensors."
      ],
      "metadata": {
        "id": "Cbm6CS2farUn"
      }
    },
    {
      "cell_type": "code",
      "source": [
        "const1 = tf.constant(5)\n",
        "const2 = tf.constant(6)\n",
        "\n",
        "sum_const = tf.add(const1,const2)\n",
        "print(sum_const)\n",
        "\n",
        "print('\\n')\n",
        "\n",
        "mat1 = tf.constant([[2,3],[4,5]])\n",
        "mat2 = tf.constant(4) # Brodacasting example\n",
        "\n",
        "add_mat = tf.add(mat1,mat2)\n",
        "print(add_mat)\n",
        "\n",
        "\n"
      ],
      "metadata": {
        "id": "AOMjlDjLZJiv"
      },
      "execution_count": null,
      "outputs": []
    },
    {
      "cell_type": "markdown",
      "source": [
        "# Difference between Numpy and Tensorflow Tensor"
      ],
      "metadata": {
        "id": "XBOA19CSy9zg"
      }
    },
    {
      "cell_type": "code",
      "source": [
        "import numpy as np\n",
        "\n",
        "array = np.ones(shape = (3,3))\n",
        "print(array)"
      ],
      "metadata": {
        "id": "Zu1IgB6vy4wn"
      },
      "execution_count": null,
      "outputs": []
    },
    {
      "cell_type": "code",
      "source": [
        "array[2,2] = 0\n",
        "print(array)"
      ],
      "metadata": {
        "id": "1qvhkhJRzKDC"
      },
      "execution_count": null,
      "outputs": []
    },
    {
      "cell_type": "code",
      "source": [
        "mat3 = tf.constant(3, shape = (3,3))\n",
        "print(mat3)"
      ],
      "metadata": {
        "id": "_RvUBYP1zRyj"
      },
      "execution_count": null,
      "outputs": []
    },
    {
      "cell_type": "code",
      "source": [
        "mat3[2,2] = 0\n",
        "print(mat3)"
      ],
      "metadata": {
        "id": "j_EW9KQszjLS"
      },
      "execution_count": null,
      "outputs": []
    },
    {
      "cell_type": "markdown",
      "source": [
        "# Example 3: Matrix Multiplication\n",
        "Performing matrix multiplication."
      ],
      "metadata": {
        "id": "yjvju7-tb4lq"
      }
    },
    {
      "cell_type": "code",
      "source": [
        "matrix1 = tf.constant([[1, 2], [3, 4]])\n",
        "matrix2 = tf.constant([[5, 6], [7, 8]])\n",
        "\n",
        "result = tf.matmul(matrix1, matrix2)\n",
        "print(\"Matrix Multiplication:\", result)\n"
      ],
      "metadata": {
        "id": "CYRXFAwgb7jg"
      },
      "execution_count": null,
      "outputs": []
    },
    {
      "cell_type": "markdown",
      "source": [
        "# Example4: Basic Slicing on a 3D Tensor\n"
      ],
      "metadata": {
        "id": "I_6ApVy4lrD1"
      }
    },
    {
      "cell_type": "code",
      "source": [
        "# Create a 3D tensor (shape: 3x4x5)\n",
        "tensor = tf.random.normal((3,4,5))\n",
        "#tensor = tf.reshape(tf.range(60), (3, 4, 5))\n",
        "\n",
        "print(\"Original Tensor:\\n\", tensor)\n",
        "\n",
        "# Slice to get the first two matrices\n",
        "sliced_tensor = tensor[:2]\n",
        "print(\"Sliced Tensor (first two matrices):\\n\", sliced_tensor)\n"
      ],
      "metadata": {
        "id": "kwcY9Z5xlR6e"
      },
      "execution_count": null,
      "outputs": []
    },
    {
      "cell_type": "markdown",
      "source": [
        "#Example 5: Slicing with Steps\n"
      ],
      "metadata": {
        "id": "s8n-gS4_mRK5"
      }
    },
    {
      "cell_type": "code",
      "source": [
        "tensor_array = tf.random.normal((3,4,5))\n",
        "print(tensor_array)\n",
        "tensor_slicing = tensor_array[:,::2,:]\n",
        "print(tensor_slicing)"
      ],
      "metadata": {
        "id": "msXQ7HdimWIV"
      },
      "execution_count": null,
      "outputs": []
    },
    {
      "cell_type": "markdown",
      "source": [
        "# Example 6. Advanced Slicing with Combined Techniques\n"
      ],
      "metadata": {
        "id": "7ADjVY8GOr3y"
      }
    },
    {
      "cell_type": "code",
      "source": [
        "combined_slicing = tensor_array[1:,1:3,::2]\n",
        "print(\"Combined Slicing Tensor (from second matrix, middle rows, every other column):\\n\", combined_slicing)"
      ],
      "metadata": {
        "id": "-qLnzn2UOqaz"
      },
      "execution_count": null,
      "outputs": []
    },
    {
      "cell_type": "code",
      "source": [
        "# Slicing with negative indices\n",
        "negative_index_slicing = tensor_array[:, -2:, -3:]\n",
        "print(\"Negative Index Slicing (last two rows and last three columns from each matrix):\\n\", negative_index_slicing)"
      ],
      "metadata": {
        "id": "ds8XIZHXQxEl"
      },
      "execution_count": null,
      "outputs": []
    },
    {
      "cell_type": "markdown",
      "source": [
        "# Elementwise Operations"
      ],
      "metadata": {
        "id": "J7fbO6O7TwCn"
      }
    },
    {
      "cell_type": "code",
      "source": [
        "t1 = tf.constant([[0, 0, 0], [0, 1, 1], [0, 1, 1]])\n",
        "t2 = tf.constant([[1, 2, 3], [4, 5, 6], [7, 8, 9]])\n",
        "print('t1 + t2 =', t1 + t2)\n",
        "print('t2 - t1 =', t2 - t1)\n",
        "print('t1 * t2 =', t1 * t2)\n",
        "print('t1 / t2 =', t1 / t2)"
      ],
      "metadata": {
        "id": "BY_QjMjNTwYN"
      },
      "execution_count": null,
      "outputs": []
    },
    {
      "cell_type": "markdown",
      "source": [
        "# Broadcasting"
      ],
      "metadata": {
        "id": "2osN3NrbSbzd"
      }
    },
    {
      "cell_type": "code",
      "source": [
        "t1 = tf.constant([1, 2, 3, 4])\n",
        "print(t1.shape)"
      ],
      "metadata": {
        "id": "5AvPQkGpSem5"
      },
      "execution_count": null,
      "outputs": []
    },
    {
      "cell_type": "code",
      "source": [
        "t1 = tf.constant([[1, 2, 3],\n",
        "                  [4, 5, 6]])\n",
        "t2 = tf.constant([[100, 200, 300]])\n",
        "print(f\"\\nt1.shape = {t1.shape}, t2.shape = {t2.shape}\")\n",
        "print(\"t1 + t2 =\", t1 + t2)\n"
      ],
      "metadata": {
        "id": "EfsrUmIcSkNf"
      },
      "execution_count": null,
      "outputs": []
    },
    {
      "cell_type": "code",
      "source": [
        "t1 = tf.constant([[1, 2, 3],\n",
        "                  [4, 5, 6]])\n",
        "t2 = tf.constant([[100],\n",
        "                  [200]])\n",
        "print(f\"\\n t1.shape = {t1.shape}, t2.shape = {t2.shape}\")\n",
        "print(\"t1 + t2 =\", t1 + t2)\n"
      ],
      "metadata": {
        "id": "TsX9LefCSnmq"
      },
      "execution_count": null,
      "outputs": []
    },
    {
      "cell_type": "code",
      "source": [
        "t1 = tf.constant([[1, 2, 3]])\n",
        "t2 = tf.constant([[100],\n",
        "                  [200]])\n",
        "print(f\"\\nt1.shape = {t1.shape}, t2.shape = {t2.shape}\")\n",
        "print(\"t1 + t2 =\", t1 + t2)"
      ],
      "metadata": {
        "id": "0vghONNoSsL5"
      },
      "execution_count": null,
      "outputs": []
    },
    {
      "cell_type": "markdown",
      "source": [
        "# Exercise Questions\n",
        "## Question 1: Tensor Creation\n",
        "Create a 3x3 tensor of ones and a 3x3 tensor of random values. Print both tensors."
      ],
      "metadata": {
        "id": "wi6nWyfKcAhw"
      }
    },
    {
      "cell_type": "code",
      "source": [
        "tensor_ones = tf.ones((3, 3), dtype = 'int32')\n",
        "print(\"3x3 Tensor of Ones:\")\n",
        "print(tensor_ones)\n",
        "\n",
        "tensor_random = tf.random.normal((3,3))\n",
        "print(\"3x3 Tensor of Random Values:\")\n",
        "print(tensor_random)"
      ],
      "metadata": {
        "id": "lLsQgk98b_lk"
      },
      "execution_count": null,
      "outputs": []
    },
    {
      "cell_type": "markdown",
      "source": [
        "# Question 2: Basic Operations\n",
        "Create a tensor with the values [1, 2, 3, 4, 5]. Compute the square and square root of each element in the tensor."
      ],
      "metadata": {
        "id": "wRx8DEPze6t5"
      }
    },
    {
      "cell_type": "code",
      "source": [
        "tensor_value = tf.constant([1,2,3,4,5], dtype = 'float32') # remove dtype and check\n",
        "print(tensor_value)\n",
        "square_tensor = tf.square(tensor_value)\n",
        "square_root_tensor = tf.sqrt(tensor_value)\n",
        "\n",
        "print(\"Square of each element in the tensor:\")\n",
        "print(square_tensor)\n",
        "print('\\n')\n",
        "print(\"Square root of each element in the tensor:\")\n",
        "print(square_root_tensor)\n"
      ],
      "metadata": {
        "id": "ukhnE6Nwe6IY"
      },
      "execution_count": null,
      "outputs": []
    },
    {
      "cell_type": "markdown",
      "source": [
        "# Question 3: Reshape and Transpose\n",
        "Create a 2x4 tensor and reshape it to a 4x2 tensor. Then, transpose the reshaped tensor."
      ],
      "metadata": {
        "id": "BIiqBGxzgs5_"
      }
    },
    {
      "cell_type": "code",
      "source": [
        "tensor_val = tf.constant([[2,3,5,6],[4,8,9,10]])\n",
        "tensor_transpose = tf.transpose(tensor_val)\n",
        "print(\"Transposed Tensor:\")\n",
        "print(tensor_transpose)"
      ],
      "metadata": {
        "id": "k9TWtmq0gr9D"
      },
      "execution_count": null,
      "outputs": []
    },
    {
      "cell_type": "code",
      "source": [
        "con1 = tf.constant([[1, 2, 3, 4, 5, 6, 7, 8, 9]]) # [9]\n",
        "print(\"Original shape is \", con1)\n",
        "print(\" Reshaped tensor is \",tf.reshape(con1,(3,3)))\n"
      ],
      "metadata": {
        "id": "YtP1TAlqGSJU"
      },
      "execution_count": null,
      "outputs": []
    },
    {
      "cell_type": "code",
      "source": [
        "con2 = tf.constant([[[2, 3], [5, 5]],[[7, 7], [1, 1]]]) # [2, 2, 2]\n",
        "print(\"Original shape is\", con2)\n",
        "print(\" Reshpaed is \", tf.reshape(con2,(2, -1))) # -1 can also be used to automatically calculate the shape\n"
      ],
      "metadata": {
        "id": "NmRgNTpFGv68"
      },
      "execution_count": null,
      "outputs": []
    },
    {
      "cell_type": "code",
      "source": [
        "con3 = tf.constant([[[3, 9, 7],\n",
        "                 [2, 3, 4]],\n",
        "                [[8, 1, 5],\n",
        "                 [4, 1, 4]],\n",
        "                [[2, 6, 1],\n",
        "                 [1, 6, 2]]]) # [3, 2, 3]\n",
        "print(con3)\n",
        "\n",
        "print(tf.reshape(con3, [1,-1]))\n",
        "\n",
        "print(tf.reshape(con3, [2, -1]))\n",
        "\n",
        "print(tf.reshape(con3, [-1, 9]))\n",
        "\n",
        "print(tf.reshape(con3, [2, -1, 3]))"
      ],
      "metadata": {
        "id": "h4UG8MG_G3T7"
      },
      "execution_count": null,
      "outputs": []
    },
    {
      "cell_type": "markdown",
      "source": [
        "# Tile command"
      ],
      "metadata": {
        "id": "B3onQDVaTEi5"
      }
    },
    {
      "cell_type": "code",
      "source": [
        "# tf.tile(t, multiples) creates a new tensor by replicating `t` `multiples` times.\n",
        "\n",
        "t = tf.constant([[1, 2, 3, 4]]) # [4]\n",
        "print(tf.tile(t, [1,3])) # [8]\n",
        "print(tf.tile(t, [3, 1])) # [3, 4]\n",
        "print(tf.tile(t, [2, 2])) # [8, 8]\n",
        "\n"
      ],
      "metadata": {
        "id": "tkLCp3WaImNP"
      },
      "execution_count": null,
      "outputs": []
    },
    {
      "cell_type": "code",
      "source": [
        "# another way\n",
        "\n",
        "a = tf.constant([[1,2,3],[4,5,6]], tf.int32)\n",
        "b = tf.constant([1,2], tf.int32)\n",
        "print(tf.tile(a, b))\n",
        "c = tf.constant([2,1], tf.int32)\n",
        "\n"
      ],
      "metadata": {
        "id": "IqVZVsbNIpKi"
      },
      "execution_count": null,
      "outputs": []
    },
    {
      "cell_type": "code",
      "source": [
        "# tf.expand(t, axis) adds a new dimension to the tensor's shape (tensor's values does not change)\n",
        "\n",
        "temp1 = tf.constant([[3, 4]]) # [2]\n",
        "print(\"origial tensor dimension\",temp1.shape)\n",
        "temp2 = tf.expand_dims(temp1, 0)\n",
        "print(f\" Temp2 is {temp2} and its shape is {tf.shape(temp2)}\")\n",
        "temp3 = tf.expand_dims(temp1, 1)\n",
        "print(f\" Temp3 is {temp3} and its shape is {tf.shape(temp3)}\")\n",
        "temp4 = tf.expand_dims(temp1, -1)\n",
        "print(f\" Temp4 is {temp4} and its shape is {tf.shape(temp4)}\")\n",
        "\n"
      ],
      "metadata": {
        "id": "qdj3AumFIslC"
      },
      "execution_count": null,
      "outputs": []
    },
    {
      "cell_type": "code",
      "source": [
        "# 't2' is a tensor of shape [2, 3, 5]\n",
        "con4 = tf.ones(shape=[2, 3, 5])\n",
        "print(tf.shape(tf.expand_dims(con4, 0)))\n",
        "print(tf.shape(tf.expand_dims(con4, 2)))\n",
        "print(tf.shape(tf.expand_dims(con4, 3)))\n",
        "print(tf.shape(tf.expand_dims(con4, -1)))\n",
        "print(tf.shape(tf.expand_dims(con4, -4)))\n",
        "print(tf.expand_dims(con4, -1).shape.as_list())\n",
        "\n"
      ],
      "metadata": {
        "id": "AReSsTOzIwym"
      },
      "execution_count": null,
      "outputs": []
    },
    {
      "cell_type": "code",
      "source": [
        "# tf.squeeze(a) exactly do the reverse operation: Removes all dimensions of size 1\n",
        "con5 = tf.ones(shape=[1, 2, 1, 3, 1, 1])\n",
        "print(tf.shape(tf.squeeze(con5)))"
      ],
      "metadata": {
        "id": "jCnT8iNVI0ba"
      },
      "execution_count": null,
      "outputs": []
    },
    {
      "cell_type": "code",
      "source": [
        "import numpy as np\n",
        "\n",
        "# Create a one-dimensional array\n",
        "arr = np.array([1, 2])\n",
        "print(arr[1])\n",
        "\n",
        "# Reshape the array to (2, 1)\n",
        "reshaped_arr = arr.reshape(1, 2)\n",
        "print(reshaped_arr)\n",
        "\n",
        "# Print the original and reshaped array shapes\n",
        "print(\"Original shape:\", arr.shape)\n",
        "print(\"Reshaped shape:\", reshaped_arr.shape)"
      ],
      "metadata": {
        "id": "3CSndr1aGAlm"
      },
      "execution_count": null,
      "outputs": []
    },
    {
      "cell_type": "markdown",
      "source": [
        "# Question 4: Slicing and Indexing\n",
        "Create a 4x4 tensor of integers from 1 to 16. Extract the second and third rows using slicing."
      ],
      "metadata": {
        "id": "qs6kFUNBhUdM"
      }
    },
    {
      "cell_type": "code",
      "source": [
        "tensor_create = tf.constant(range(1,17))\n",
        "print(tensor_create)\n",
        "print('\\n')\n",
        "\n",
        "tensor_matrix = tf.reshape(tensor_create,(4,4))\n",
        "print(tensor_matrix)\n",
        "print('\\n')\n",
        "# Extraction of seond row\n",
        "print(tensor_matrix[1, :])\n",
        "\n",
        "# Extraction of third row\n",
        "print(tensor_matrix[2, :])\n"
      ],
      "metadata": {
        "id": "2Q7Bj-VlhW0O"
      },
      "execution_count": null,
      "outputs": []
    },
    {
      "cell_type": "code",
      "source": [
        "t = tf.random.uniform(shape=[4, 5, 6, 7], maxval=10, dtype=tf.int32)\n",
        "print(t.shape)\n",
        "# same as Python lists and Numpy arrays\n",
        "t1 = t[1:3, 0, 3:, -2:-6:-1]\n",
        "print(t1.shape)\n",
        "\n",
        "# same t[0, 0, :, :]\n",
        "t2 = t[0, :, :, 0]\n",
        "print(t2.shape)"
      ],
      "metadata": {
        "id": "gieZGnReM6TJ"
      },
      "execution_count": null,
      "outputs": []
    },
    {
      "cell_type": "markdown",
      "source": [
        "# Question 5: Boolean Masking\n",
        "Create a 1-D tensor with values from 1 to 10. Use boolean masking to extract all even numbers from the tensor."
      ],
      "metadata": {
        "id": "1aH3kPXti7Dy"
      }
    },
    {
      "cell_type": "code",
      "source": [
        "tensor_range = tf.constant(range(1,11))\n",
        "print(tensor_range)\n",
        "even_mask = tensor_range%2==0\n",
        "print(even_mask)\n",
        "\n",
        "boolean_masking_value = tf.boolean_mask(tensor_range, even_mask)\n",
        "print(boolean_masking_value)\n"
      ],
      "metadata": {
        "id": "F990n6MGi6Up"
      },
      "execution_count": null,
      "outputs": []
    },
    {
      "cell_type": "code",
      "source": [
        "t = tf.constant([[1, 2, 3, 4],\n",
        "                 [2, 3, 5, 6]])\n",
        "\n",
        "# calculate the sum of all elements\n",
        "print(tf.math.reduce_sum(t))\n",
        "\n",
        "# calculate the sum of all elements vertically\n",
        "print(tf.math.reduce_sum(t, axis=0))\n",
        "\n",
        "# calculate the sum of all elements horizontally\n",
        "print(tf.math.reduce_sum(t, axis=1))\n",
        "\n",
        "t1 = tf.random.uniform(shape=[3, 4], maxval=10, dtype=tf.int32)\n",
        "print(\"\\nt1 =\",t1)\n",
        "print(tf.math.reduce_min(t1))\n",
        "print(tf.math.reduce_max(t1))\n",
        "print(tf.math.reduce_mean(t1))"
      ],
      "metadata": {
        "id": "2PSoYaMQNHOJ"
      },
      "execution_count": null,
      "outputs": []
    },
    {
      "cell_type": "markdown",
      "source": [
        "# Lab Exercise: Analyzing a Small Dataset Using TensorFlow Variables, Tensors, and Operations\n",
        "## Objective\n",
        "In this exercise, you will use TensorFlow to analyze a small dataset. You will apply the concepts of variables, tensors, and operations learned in the previous examples to perform various computations and manipulations. This exercise will simulate a real-life scenario where you need to preprocess data, perform mathematical operations, and derive insights.\n",
        "\n",
        "## Dataset\n",
        "Let's consider a small dataset representing the scores of students in three subjects: Math, Science, and English. Each row represents a student, and each column represents a subject."
      ],
      "metadata": {
        "id": "PS2ApDagvFAL"
      }
    },
    {
      "cell_type": "markdown",
      "source": [
        "\n",
        "\n",
        "\n",
        "\n",
        "| Math | Science | English |\n",
        "|---|---|---|\n",
        "| 85 | 90 | 78 |\n",
        "| 72 | 85 | 65 |\n",
        "| 90 | 88 | 92 |\n",
        "| 60 | 75 | 70 |\n",
        "| 95 | 85 | 85 |\n"
      ],
      "metadata": {
        "id": "WiMy1ewXTYbB"
      }
    },
    {
      "cell_type": "markdown",
      "source": [
        "# Tasks\n",
        "\n",
        "\n",
        "\n",
        "\n",
        "\n",
        "\n",
        "\n",
        "1.  Create Tensors for the Dataset:\n",
        "Create a 2D tensor to represent the scores of the students.\n",
        "\n",
        "2.  Calculate the Average Score per Subject:\n",
        " Compute the mean score for each subject.\n",
        "\n",
        "3. Find the Highest and Lowest Scores per Subject:\n",
        "   Determine the maximum and minimum scores for each subject.\n",
        "\n",
        "4. Normalize the Scores:\n",
        "Normalize the scores to a range of 0 to 1.\n",
        "\n",
        "5. Find Students with Scores Above a Threshold:\n",
        "Identify students who scored above 80 in Math.\n",
        "\n",
        "6. Add a New Subject:\n",
        "Add scores for a new subject, History, for each student.\n",
        "\n",
        "7. Calculate Total Score per Student:\n",
        "Compute the total score for each student across all subjects.\n",
        "\n",
        "8. Create One-Hot Encoded Representation:\n",
        "Create a one-hot encoded representation of students who scored above 85 in Science."
      ],
      "metadata": {
        "id": "zTUTFpUXvSkx"
      }
    },
    {
      "cell_type": "code",
      "source": [
        "# Create Tensors for the Dataset: Create a 2D tensor to represent the scores of the students.\n",
        "score = tf.constant([[85,90,78], [72,85, 65], [90,88,92], [60,75,70], [95,85,85]])\n",
        "print(score)"
      ],
      "metadata": {
        "id": "_2nZlsFNvNMi"
      },
      "execution_count": null,
      "outputs": []
    },
    {
      "cell_type": "code",
      "source": [
        "# Calculate the Average Score per Subject: Compute the mean score for each subject.\n",
        "avg_score = tf.reduce_mean(score, axis = 0)\n",
        "print(avg_score)"
      ],
      "metadata": {
        "id": "kZWW0hGyw6vY"
      },
      "execution_count": null,
      "outputs": []
    },
    {
      "cell_type": "code",
      "source": [
        "#Find the Highest and Lowest Scores per Subject: Determine the maximum and minimum scores for each subject.\n",
        "max_score = tf.reduce_max(score, axis = 0)\n",
        "min_score = tf.reduce_min(score, axis = 0)\n",
        "print(max_score)\n",
        "print(min_score)"
      ],
      "metadata": {
        "id": "Wf2m7_CGAKcj"
      },
      "execution_count": null,
      "outputs": []
    },
    {
      "cell_type": "code",
      "source": [
        "# Normalize the Scores: Normalize the scores to a range of 0 to 1\n",
        "normalize_score = (score-min_score)/(max_score-min_score)\n",
        "print(normalize_score)"
      ],
      "metadata": {
        "id": "-eMttXJR8VUH"
      },
      "execution_count": null,
      "outputs": []
    },
    {
      "cell_type": "code",
      "source": [
        "# Find Students with Scores Above a Threshold: Identify students who scored above 80 in maths.\n",
        "math_scores = score[:, 0]\n",
        "students_above_80_math = tf.where(math_scores > 80)\n",
        "print(\"\\nStudents with Math Scores Above 80:\\n\", students_above_80_math.numpy())"
      ],
      "metadata": {
        "id": "I6a64P44CIPh"
      },
      "execution_count": null,
      "outputs": []
    },
    {
      "cell_type": "code",
      "source": [
        "# Add a New Subject: Add scores for a new subject, History, for each student.\n",
        "\n",
        "subject_add = tf.constant([[78],[92],[34],[67],[89]])\n",
        "new_score_updated = tf.concat(values = [score, subject_add], axis = 1)\n",
        "print(new_score_updated)"
      ],
      "metadata": {
        "id": "H50qzWNTC7I8"
      },
      "execution_count": null,
      "outputs": []
    },
    {
      "cell_type": "code",
      "source": [
        "# Calculate Total Score per Student: Compute the total score for each student across all subjects\n",
        "total_score = tf.reduce_sum(new_score_updated, axis = 1, keepdims =1)\n",
        "print(total_score)"
      ],
      "metadata": {
        "id": "Ma9iKwLzD2hT"
      },
      "execution_count": null,
      "outputs": []
    },
    {
      "cell_type": "code",
      "source": [
        "# Create One-Hot Encoded Representation for Science Scores Above 85\n",
        "science_scores = score[:, 1]\n",
        "students_above_85_science = tf.where(science_scores > 85)\n",
        "one_hot_above_85_science = tf.one_hot(students_above_85_science, depth=3)\n",
        "print(students_above_85_science)\n",
        "print(one_hot_above_85_science)"
      ],
      "metadata": {
        "id": "359-s-LTbGCv"
      },
      "execution_count": null,
      "outputs": []
    }
  ]
}