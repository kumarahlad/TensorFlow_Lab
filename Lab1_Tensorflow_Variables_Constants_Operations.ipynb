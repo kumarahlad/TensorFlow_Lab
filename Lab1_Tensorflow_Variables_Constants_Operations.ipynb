{
  "nbformat": 4,
  "nbformat_minor": 0,
  "metadata": {
    "colab": {
      "provenance": []
    },
    "kernelspec": {
      "name": "python3",
      "display_name": "Python 3"
    },
    "language_info": {
      "name": "python"
    }
  },
  "cells": [
    {
      "cell_type": "markdown",
      "source": [
        "#  Tensorflow Constants and Operations"
      ],
      "metadata": {
        "id": "zWOau3oTcgMy"
      }
    },
    {
      "cell_type": "code",
      "source": [
        "import tensorflow as tf"
      ],
      "metadata": {
        "id": "J8AXvuGDZq-F"
      },
      "execution_count": 22,
      "outputs": []
    },
    {
      "cell_type": "markdown",
      "source": [
        "# Example 1: Creating Tensors\n",
        "Let's start by creating different types of tensors."
      ],
      "metadata": {
        "id": "vdAA8JOQZaz9"
      }
    },
    {
      "cell_type": "code",
      "source": [
        "import tensorflow as tf\n",
        "\n",
        "# Scalar tensor\n",
        "scalar = tf.constant(5)\n",
        "print(\"Scalar:\", scalar)\n",
        "print('\\n')\n",
        "\n",
        "# Vector tensor\n",
        "vector = tf.constant([1, 2, 3, 4])\n",
        "print(\"Vector:\", vector)\n",
        "print('\\n')\n",
        "\n",
        "# Matrix tensor\n",
        "matrix = tf.constant([[1, 2], [3, 4]])\n",
        "print(\"Matrix:\", matrix)\n",
        "print('\\n')\n",
        "\n",
        "# 3D Tensor\n",
        "tensor3d = tf.constant([[[1, 2], [3, 4]], [[5, 6], [7, 8]]])\n",
        "print(\"3D Tensor:\", tensor3d)\n"
      ],
      "metadata": {
        "id": "VPaXef81ZVZk",
        "colab": {
          "base_uri": "https://localhost:8080/"
        },
        "outputId": "c0e5d5b7-4a55-4a48-d90e-2b0e86b174f1"
      },
      "execution_count": 23,
      "outputs": [
        {
          "output_type": "stream",
          "name": "stdout",
          "text": [
            "Scalar: tf.Tensor(5, shape=(), dtype=int32)\n",
            "\n",
            "\n",
            "Vector: tf.Tensor([1 2 3 4], shape=(4,), dtype=int32)\n",
            "\n",
            "\n",
            "Matrix: tf.Tensor(\n",
            "[[1 2]\n",
            " [3 4]], shape=(2, 2), dtype=int32)\n",
            "\n",
            "\n",
            "3D Tensor: tf.Tensor(\n",
            "[[[1 2]\n",
            "  [3 4]]\n",
            "\n",
            " [[5 6]\n",
            "  [7 8]]], shape=(2, 2, 2), dtype=int32)\n"
          ]
        }
      ]
    },
    {
      "cell_type": "markdown",
      "source": [
        "#Example 2: Tensor Operations\n",
        "Performing basic operations on tensors."
      ],
      "metadata": {
        "id": "Cbm6CS2farUn"
      }
    },
    {
      "cell_type": "code",
      "source": [
        "const1 = tf.constant(5)\n",
        "const2 = tf.constant(6)\n",
        "\n",
        "sum_const = tf.add(const1,const2)\n",
        "print(sum_const)\n",
        "\n",
        "print('\\n')\n",
        "\n",
        "mat1 = tf.constant([[2,3],[4,5]])\n",
        "mat2 = tf.constant(4) # Brodacasting example\n",
        "\n",
        "add_mat = tf.add(mat1,mat2)\n",
        "print(add_mat)\n"
      ],
      "metadata": {
        "id": "AOMjlDjLZJiv",
        "colab": {
          "base_uri": "https://localhost:8080/"
        },
        "outputId": "b330616a-0a82-4ea8-cba9-fe0e8ff3a008"
      },
      "execution_count": 24,
      "outputs": [
        {
          "output_type": "stream",
          "name": "stdout",
          "text": [
            "tf.Tensor(11, shape=(), dtype=int32)\n",
            "\n",
            "\n",
            "tf.Tensor(\n",
            "[[6 7]\n",
            " [8 9]], shape=(2, 2), dtype=int32)\n"
          ]
        }
      ]
    },
    {
      "cell_type": "markdown",
      "source": [
        "# Example 3: Matrix Multiplication\n",
        "Performing matrix multiplication."
      ],
      "metadata": {
        "id": "yjvju7-tb4lq"
      }
    },
    {
      "cell_type": "code",
      "source": [
        "matrix1 = tf.constant([[1, 2], [3, 4]])\n",
        "matrix2 = tf.constant([[5, 6], [7, 8]])\n",
        "\n",
        "result = tf.matmul(matrix1, matrix2)\n",
        "print(\"Matrix Multiplication:\", result)\n"
      ],
      "metadata": {
        "id": "CYRXFAwgb7jg",
        "colab": {
          "base_uri": "https://localhost:8080/"
        },
        "outputId": "fad02a6e-36f9-4d7e-aec1-d03e8b981da0"
      },
      "execution_count": 25,
      "outputs": [
        {
          "output_type": "stream",
          "name": "stdout",
          "text": [
            "Matrix Multiplication: tf.Tensor(\n",
            "[[19 22]\n",
            " [43 50]], shape=(2, 2), dtype=int32)\n"
          ]
        }
      ]
    },
    {
      "cell_type": "markdown",
      "source": [
        "# Example4: Basic Slicing on a 3D Tensor\n"
      ],
      "metadata": {
        "id": "I_6ApVy4lrD1"
      }
    },
    {
      "cell_type": "code",
      "source": [
        "# Create a 3D tensor (shape: 3x4x5)\n",
        "tensor = tf.random.normal((3,4,5))\n",
        "#tensor = tf.reshape(tf.range(60), (3, 4, 5))\n",
        "\n",
        "print(\"Original Tensor:\\n\", tensor)\n",
        "\n",
        "# Slice to get the first two matrices\n",
        "sliced_tensor = tensor[:2]\n",
        "print(\"Sliced Tensor (first two matrices):\\n\", sliced_tensor)\n"
      ],
      "metadata": {
        "id": "kwcY9Z5xlR6e",
        "colab": {
          "base_uri": "https://localhost:8080/"
        },
        "outputId": "e0b8d339-16e2-41cc-9784-e469c24aeedb"
      },
      "execution_count": 26,
      "outputs": [
        {
          "output_type": "stream",
          "name": "stdout",
          "text": [
            "Original Tensor:\n",
            " tf.Tensor(\n",
            "[[[ 0.5837751  -2.4950583   0.45462063 -0.86928505 -0.2874269 ]\n",
            "  [ 0.75669825  1.5642878   0.971898   -1.8541888   1.0304061 ]\n",
            "  [ 0.3777889   0.3854918   0.5034067   0.64117664  1.3861266 ]\n",
            "  [-0.02868406 -0.8034162  -1.8607575  -0.23064037 -0.5932877 ]]\n",
            "\n",
            " [[-1.7404633   1.1608583  -0.29197443 -0.9201661  -0.0511467 ]\n",
            "  [ 1.2221432   0.4467025   2.3927505  -1.3116431   0.6622092 ]\n",
            "  [-0.9390406  -1.2013758   1.1907818   0.5239596  -0.27496454]\n",
            "  [-0.2702396   0.02367282  1.3433384  -0.6305773  -0.9550508 ]]\n",
            "\n",
            " [[ 1.1377451  -0.15644623  0.6471728  -0.02229333  0.60813034]\n",
            "  [ 0.02938697 -0.8388195  -0.48264658 -0.09369629 -0.50040007]\n",
            "  [-1.2117181  -0.4037591   1.1996341  -0.6839649  -0.30378672]\n",
            "  [ 0.08100735  0.81760913  0.10302535  0.09460048  0.16625053]]], shape=(3, 4, 5), dtype=float32)\n",
            "Sliced Tensor (first two matrices):\n",
            " tf.Tensor(\n",
            "[[[ 0.5837751  -2.4950583   0.45462063 -0.86928505 -0.2874269 ]\n",
            "  [ 0.75669825  1.5642878   0.971898   -1.8541888   1.0304061 ]\n",
            "  [ 0.3777889   0.3854918   0.5034067   0.64117664  1.3861266 ]\n",
            "  [-0.02868406 -0.8034162  -1.8607575  -0.23064037 -0.5932877 ]]\n",
            "\n",
            " [[-1.7404633   1.1608583  -0.29197443 -0.9201661  -0.0511467 ]\n",
            "  [ 1.2221432   0.4467025   2.3927505  -1.3116431   0.6622092 ]\n",
            "  [-0.9390406  -1.2013758   1.1907818   0.5239596  -0.27496454]\n",
            "  [-0.2702396   0.02367282  1.3433384  -0.6305773  -0.9550508 ]]], shape=(2, 4, 5), dtype=float32)\n"
          ]
        }
      ]
    },
    {
      "cell_type": "markdown",
      "source": [
        "#Example 5: Slicing with Steps\n"
      ],
      "metadata": {
        "id": "s8n-gS4_mRK5"
      }
    },
    {
      "cell_type": "code",
      "source": [
        "tensor_array = tf.random.normal((3,4,5))\n",
        "print(tensor_array)\n",
        "tensor_slicing = tensor_array[:,::2,:]\n",
        "print(tensor_slicing)"
      ],
      "metadata": {
        "id": "msXQ7HdimWIV",
        "colab": {
          "base_uri": "https://localhost:8080/"
        },
        "outputId": "e989db54-8f7d-46cc-bce5-82e61b476d52"
      },
      "execution_count": 27,
      "outputs": [
        {
          "output_type": "stream",
          "name": "stdout",
          "text": [
            "tf.Tensor(\n",
            "[[[-1.3045384  -1.5401288  -0.41344666  0.6206528   1.8714056 ]\n",
            "  [-1.5329629  -0.744956    0.19866872  1.092144    0.01073946]\n",
            "  [-0.25432336  1.2243942  -1.7136763  -0.3474803   2.1841648 ]\n",
            "  [-0.23569135  0.49977624 -0.19190739  0.28552917 -0.6292529 ]]\n",
            "\n",
            " [[-1.4460562   0.9794346  -0.7734823   0.5891311   0.76968896]\n",
            "  [-1.1411445   1.9700407  -0.09415074 -0.529565   -1.5712276 ]\n",
            "  [ 0.5669853   0.7795074   1.1459635  -0.0683466  -0.43787977]\n",
            "  [-0.88984436 -0.10690471 -1.2283305   0.27581894  0.02284078]]\n",
            "\n",
            " [[-0.0594421  -1.0222077  -0.23220332 -0.93342143 -0.3387679 ]\n",
            "  [-1.2874434  -0.03835655  1.363701   -0.32362396  0.64152026]\n",
            "  [-0.286253    0.2768468   0.5923379  -0.00835753  1.6361223 ]\n",
            "  [-1.3091091   0.0887338  -0.4567417  -0.45040098  0.248493  ]]], shape=(3, 4, 5), dtype=float32)\n",
            "tf.Tensor(\n",
            "[[[-1.3045384  -1.5401288  -0.41344666  0.6206528   1.8714056 ]\n",
            "  [-0.25432336  1.2243942  -1.7136763  -0.3474803   2.1841648 ]]\n",
            "\n",
            " [[-1.4460562   0.9794346  -0.7734823   0.5891311   0.76968896]\n",
            "  [ 0.5669853   0.7795074   1.1459635  -0.0683466  -0.43787977]]\n",
            "\n",
            " [[-0.0594421  -1.0222077  -0.23220332 -0.93342143 -0.3387679 ]\n",
            "  [-0.286253    0.2768468   0.5923379  -0.00835753  1.6361223 ]]], shape=(3, 2, 5), dtype=float32)\n"
          ]
        }
      ]
    },
    {
      "cell_type": "markdown",
      "source": [
        "# Example 6. Advanced Slicing with Combined Techniques\n"
      ],
      "metadata": {
        "id": "7ADjVY8GOr3y"
      }
    },
    {
      "cell_type": "code",
      "source": [
        "combined_slicing = tensor_array[1:,1:3,::2]\n",
        "print(\"Combined Slicing Tensor (from second matrix, middle rows, every other column):\\n\", combined_slicing)"
      ],
      "metadata": {
        "id": "-qLnzn2UOqaz",
        "colab": {
          "base_uri": "https://localhost:8080/"
        },
        "outputId": "0d4eee71-ec1a-4415-991c-b9d6408e0bca"
      },
      "execution_count": 28,
      "outputs": [
        {
          "output_type": "stream",
          "name": "stdout",
          "text": [
            "Combined Slicing Tensor (from second matrix, middle rows, every other column):\n",
            " tf.Tensor(\n",
            "[[[-1.1411445  -0.09415074 -1.5712276 ]\n",
            "  [ 0.5669853   1.1459635  -0.43787977]]\n",
            "\n",
            " [[-1.2874434   1.363701    0.64152026]\n",
            "  [-0.286253    0.5923379   1.6361223 ]]], shape=(2, 2, 3), dtype=float32)\n"
          ]
        }
      ]
    },
    {
      "cell_type": "code",
      "source": [
        "# Slicing with negative indices\n",
        "negative_index_slicing = tensor_array[:, -2:, -3:]\n",
        "print(\"Negative Index Slicing (last two rows and last three columns from each matrix):\\n\", negative_index_slicing)"
      ],
      "metadata": {
        "id": "ds8XIZHXQxEl",
        "colab": {
          "base_uri": "https://localhost:8080/"
        },
        "outputId": "398944e5-4a97-4100-d129-4fc926f08c6d"
      },
      "execution_count": 29,
      "outputs": [
        {
          "output_type": "stream",
          "name": "stdout",
          "text": [
            "Negative Index Slicing (last two rows and last three columns from each matrix):\n",
            " tf.Tensor(\n",
            "[[[-1.7136763  -0.3474803   2.1841648 ]\n",
            "  [-0.19190739  0.28552917 -0.6292529 ]]\n",
            "\n",
            " [[ 1.1459635  -0.0683466  -0.43787977]\n",
            "  [-1.2283305   0.27581894  0.02284078]]\n",
            "\n",
            " [[ 0.5923379  -0.00835753  1.6361223 ]\n",
            "  [-0.4567417  -0.45040098  0.248493  ]]], shape=(3, 2, 3), dtype=float32)\n"
          ]
        }
      ]
    },
    {
      "cell_type": "markdown",
      "source": [
        "# Exercise Questions\n",
        "## Question 1: Tensor Creation\n",
        "Create a 3x3 tensor of ones and a 3x3 tensor of random values. Print both tensors."
      ],
      "metadata": {
        "id": "wi6nWyfKcAhw"
      }
    },
    {
      "cell_type": "code",
      "source": [
        "tensor_ones = tf.ones((3, 3))\n",
        "print(\"3x3 Tensor of Ones:\")\n",
        "print(tensor_ones)\n",
        "\n",
        "tensor_random = tf.random.normal((3,3))\n",
        "print(\"3x3 Tensor of Random Values:\")\n",
        "print(tensor_random)"
      ],
      "metadata": {
        "id": "lLsQgk98b_lk",
        "colab": {
          "base_uri": "https://localhost:8080/"
        },
        "outputId": "6ff548fe-fb52-44d5-bedc-8cd9c61667e6"
      },
      "execution_count": 30,
      "outputs": [
        {
          "output_type": "stream",
          "name": "stdout",
          "text": [
            "3x3 Tensor of Ones:\n",
            "tf.Tensor(\n",
            "[[1. 1. 1.]\n",
            " [1. 1. 1.]\n",
            " [1. 1. 1.]], shape=(3, 3), dtype=float32)\n",
            "3x3 Tensor of Random Values:\n",
            "tf.Tensor(\n",
            "[[-0.44424993  0.8359945   0.30671427]\n",
            " [ 0.02907692 -0.5153265   0.12678702]\n",
            " [ 1.4860383   1.5583391  -0.35119328]], shape=(3, 3), dtype=float32)\n"
          ]
        }
      ]
    },
    {
      "cell_type": "markdown",
      "source": [
        "# Question 2: Basic Operations\n",
        "Create a tensor with the values [1, 2, 3, 4, 5]. Compute the square and square root of each element in the tensor."
      ],
      "metadata": {
        "id": "wRx8DEPze6t5"
      }
    },
    {
      "cell_type": "code",
      "source": [
        "tensor_value = tf.constant([1,2,3,4,5], dtype = tf.float32) # remove dtype and check\n",
        "square_tensor = tf.square(tensor_value)\n",
        "square_root_tensor = tf.sqrt(tensor_value)\n",
        "\n",
        "print(\"Square of each element in the tensor:\")\n",
        "print(square_tensor)\n",
        "print('\\n')\n",
        "print(\"Square root of each element in the tensor:\")\n",
        "print(square_root_tensor)\n"
      ],
      "metadata": {
        "id": "ukhnE6Nwe6IY",
        "colab": {
          "base_uri": "https://localhost:8080/"
        },
        "outputId": "88760292-bfbc-442a-eb34-b73c73b4f1e4"
      },
      "execution_count": 31,
      "outputs": [
        {
          "output_type": "stream",
          "name": "stdout",
          "text": [
            "Square of each element in the tensor:\n",
            "tf.Tensor([ 1.  4.  9. 16. 25.], shape=(5,), dtype=float32)\n",
            "\n",
            "\n",
            "Square root of each element in the tensor:\n",
            "tf.Tensor([1.        1.4142135 1.7320508 2.        2.236068 ], shape=(5,), dtype=float32)\n"
          ]
        }
      ]
    },
    {
      "cell_type": "markdown",
      "source": [
        "# Question 3: Reshape and Transpose\n",
        "Create a 2x4 tensor and reshape it to a 4x2 tensor. Then, transpose the reshaped tensor."
      ],
      "metadata": {
        "id": "BIiqBGxzgs5_"
      }
    },
    {
      "cell_type": "code",
      "source": [
        "tensor_val = tf.constant([[2,3,5,6],[4,8,9,10]])\n",
        "tensor_transpose = tf.transpose(tensor_val)\n",
        "print(\"Transposed Tensor:\")\n",
        "print(tensor_transpose)"
      ],
      "metadata": {
        "id": "k9TWtmq0gr9D",
        "colab": {
          "base_uri": "https://localhost:8080/"
        },
        "outputId": "baa0815d-8e66-49ec-e36b-d8387a77d01b"
      },
      "execution_count": 32,
      "outputs": [
        {
          "output_type": "stream",
          "name": "stdout",
          "text": [
            "Transposed Tensor:\n",
            "tf.Tensor(\n",
            "[[ 2  4]\n",
            " [ 3  8]\n",
            " [ 5  9]\n",
            " [ 6 10]], shape=(4, 2), dtype=int32)\n"
          ]
        }
      ]
    },
    {
      "cell_type": "markdown",
      "source": [
        "# Question 4: Slicing and Indexing\n",
        "Create a 4x4 tensor of integers from 1 to 16. Extract the second and third rows using slicing."
      ],
      "metadata": {
        "id": "qs6kFUNBhUdM"
      }
    },
    {
      "cell_type": "code",
      "source": [
        "tensor_create = tf.constant(range(1,17))\n",
        "print(tensor_create)\n",
        "print('\\n')\n",
        "\n",
        "tensor_matrix = tf.reshape(tensor_create,(4,4))\n",
        "print(tensor_matrix)\n",
        "print('\\n')\n",
        "# Extraction of seond row\n",
        "print(tensor_matrix[1, :])\n",
        "\n",
        "# Extraction of third row\n",
        "print(tensor_matrix[2, :])\n"
      ],
      "metadata": {
        "id": "2Q7Bj-VlhW0O",
        "colab": {
          "base_uri": "https://localhost:8080/"
        },
        "outputId": "74ec9f42-c631-4a3e-fe3b-5200ff065c71"
      },
      "execution_count": 33,
      "outputs": [
        {
          "output_type": "stream",
          "name": "stdout",
          "text": [
            "tf.Tensor([ 1  2  3  4  5  6  7  8  9 10 11 12 13 14 15 16], shape=(16,), dtype=int32)\n",
            "\n",
            "\n",
            "tf.Tensor(\n",
            "[[ 1  2  3  4]\n",
            " [ 5  6  7  8]\n",
            " [ 9 10 11 12]\n",
            " [13 14 15 16]], shape=(4, 4), dtype=int32)\n",
            "\n",
            "\n",
            "tf.Tensor([5 6 7 8], shape=(4,), dtype=int32)\n",
            "tf.Tensor([ 9 10 11 12], shape=(4,), dtype=int32)\n"
          ]
        }
      ]
    },
    {
      "cell_type": "markdown",
      "source": [
        "# Question 5: Boolean Masking\n",
        "Create a 1-D tensor with values from 1 to 10. Use boolean masking to extract all even numbers from the tensor."
      ],
      "metadata": {
        "id": "1aH3kPXti7Dy"
      }
    },
    {
      "cell_type": "code",
      "source": [
        "tensor_range = tf.constant(range(1,11))\n",
        "even_mask = tensor_range%2==0\n",
        "print(even_mask)\n",
        "\n",
        "boolean_masking_value = tf.boolean_mask(tensor_range, even_mask)\n",
        "print(boolean_masking_value)\n"
      ],
      "metadata": {
        "id": "F990n6MGi6Up",
        "colab": {
          "base_uri": "https://localhost:8080/"
        },
        "outputId": "dceee6ae-5124-4ae4-ba8c-495ef238a428"
      },
      "execution_count": 34,
      "outputs": [
        {
          "output_type": "stream",
          "name": "stdout",
          "text": [
            "tf.Tensor([False  True False  True False  True False  True False  True], shape=(10,), dtype=bool)\n",
            "tf.Tensor([ 2  4  6  8 10], shape=(5,), dtype=int32)\n"
          ]
        }
      ]
    },
    {
      "cell_type": "markdown",
      "source": [
        "# Lab Exercise: Analyzing a Small Dataset Using TensorFlow Variables, Tensors, and Operations\n",
        "## Objective\n",
        "In this exercise, you will use TensorFlow to analyze a small dataset. You will apply the concepts of variables, tensors, and operations learned in the previous examples to perform various computations and manipulations. This exercise will simulate a real-life scenario where you need to preprocess data, perform mathematical operations, and derive insights.\n",
        "\n",
        "## Dataset\n",
        "Let's consider a small dataset representing the scores of students in three subjects: Math, Science, and English. Each row represents a student, and each column represents a subject."
      ],
      "metadata": {
        "id": "PS2ApDagvFAL"
      }
    },
    {
      "cell_type": "markdown",
      "source": [
        "\n",
        "\n",
        "\n",
        "\n",
        "| Math | Science | English |\n",
        "|---|---|---|\n",
        "| 85 | 90 | 78 |\n",
        "| 72 | 85 | 65 |\n",
        "| 90 | 88 | 92 |\n",
        "| 60 | 75 | 70 |\n",
        "| 95 | 85 | 85 |\n"
      ],
      "metadata": {
        "id": "WiMy1ewXTYbB"
      }
    },
    {
      "cell_type": "markdown",
      "source": [
        "# Tasks\n",
        "\n",
        "\n",
        "\n",
        "\n",
        "\n",
        "\n",
        "\n",
        "1.  Create Tensors for the Dataset:\n",
        "Create a 2D tensor to represent the scores of the students.\n",
        "\n",
        "2.  Calculate the Average Score per Subject:\n",
        " Compute the mean score for each subject.\n",
        "\n",
        "3. Find the Highest and Lowest Scores per Subject:\n",
        "   Determine the maximum and minimum scores for each subject.\n",
        "\n",
        "4. Normalize the Scores:\n",
        "Normalize the scores to a range of 0 to 1.\n",
        "\n",
        "5. Find Students with Scores Above a Threshold:\n",
        "Identify students who scored above 80 in Math.\n",
        "\n",
        "6. Add a New Subject:\n",
        "Add scores for a new subject, History, for each student.\n",
        "\n",
        "7. Calculate Total Score per Student:\n",
        "Compute the total score for each student across all subjects.\n",
        "\n",
        "8. Create One-Hot Encoded Representation:\n",
        "Create a one-hot encoded representation of students who scored above 85 in Science."
      ],
      "metadata": {
        "id": "zTUTFpUXvSkx"
      }
    },
    {
      "cell_type": "code",
      "source": [
        "# Create Tensors for the Dataset: Create a 2D tensor to represent the scores of the students.\n",
        "score = tf.constant([[85,90,78], [72,85, 65], [90,88,92], [60,75,70], [95,85,85]])\n",
        "print(score)"
      ],
      "metadata": {
        "id": "_2nZlsFNvNMi",
        "colab": {
          "base_uri": "https://localhost:8080/"
        },
        "outputId": "dfe10303-5b9c-495f-b401-c48178567cd9"
      },
      "execution_count": 35,
      "outputs": [
        {
          "output_type": "stream",
          "name": "stdout",
          "text": [
            "tf.Tensor(\n",
            "[[85 90 78]\n",
            " [72 85 65]\n",
            " [90 88 92]\n",
            " [60 75 70]\n",
            " [95 85 85]], shape=(5, 3), dtype=int32)\n"
          ]
        }
      ]
    },
    {
      "cell_type": "code",
      "source": [
        "# Calculate the Average Score per Subject: Compute the mean score for each subject.\n",
        "avg_score = tf.reduce_mean(score, axis = 0)\n",
        "print(avg_score)"
      ],
      "metadata": {
        "id": "kZWW0hGyw6vY",
        "colab": {
          "base_uri": "https://localhost:8080/"
        },
        "outputId": "0e2ede7a-3cc4-4b5e-fdbd-6646bac303f9"
      },
      "execution_count": 36,
      "outputs": [
        {
          "output_type": "stream",
          "name": "stdout",
          "text": [
            "tf.Tensor([80 84 78], shape=(3,), dtype=int32)\n"
          ]
        }
      ]
    },
    {
      "cell_type": "code",
      "source": [
        "#Find the Highest and Lowest Scores per Subject: Determine the maximum and minimum scores for each subject.\n",
        "max_score = tf.reduce_max(score, axis = 0)\n",
        "min_score = tf.reduce_min(score, axis = 0)\n",
        "print(max_score)\n",
        "print(min_score)"
      ],
      "metadata": {
        "id": "Wf2m7_CGAKcj",
        "colab": {
          "base_uri": "https://localhost:8080/"
        },
        "outputId": "b9400898-a2e6-45d5-e645-ceabc2223053"
      },
      "execution_count": 37,
      "outputs": [
        {
          "output_type": "stream",
          "name": "stdout",
          "text": [
            "tf.Tensor([95 90 92], shape=(3,), dtype=int32)\n",
            "tf.Tensor([60 75 65], shape=(3,), dtype=int32)\n"
          ]
        }
      ]
    },
    {
      "cell_type": "code",
      "source": [
        "# Normalize the Scores: Normalize the scores to a range of 0 to 1\n",
        "normalize_score = (score-min_score)/(max_score-min_score)\n",
        "print(normalize_score)"
      ],
      "metadata": {
        "id": "-eMttXJR8VUH",
        "colab": {
          "base_uri": "https://localhost:8080/"
        },
        "outputId": "032d2d27-edcc-46ab-ee8c-e620e219765f"
      },
      "execution_count": 38,
      "outputs": [
        {
          "output_type": "stream",
          "name": "stdout",
          "text": [
            "tf.Tensor(\n",
            "[[0.71428571 1.         0.48148148]\n",
            " [0.34285714 0.66666667 0.        ]\n",
            " [0.85714286 0.86666667 1.        ]\n",
            " [0.         0.         0.18518519]\n",
            " [1.         0.66666667 0.74074074]], shape=(5, 3), dtype=float64)\n"
          ]
        }
      ]
    },
    {
      "cell_type": "code",
      "source": [
        "# Find Students with Scores Above a Threshold: Identify students who scored above 80 in maths.\n",
        "math_scores = score[:, 0]\n",
        "students_above_80_math = tf.where(math_scores > 80)\n",
        "print(\"\\nStudents with Math Scores Above 80:\\n\", students_above_80_math.numpy())"
      ],
      "metadata": {
        "id": "I6a64P44CIPh",
        "colab": {
          "base_uri": "https://localhost:8080/"
        },
        "outputId": "7142c375-4b33-476b-d1aa-30295c9a8193"
      },
      "execution_count": 39,
      "outputs": [
        {
          "output_type": "stream",
          "name": "stdout",
          "text": [
            "\n",
            "Students with Math Scores Above 80:\n",
            " [[0]\n",
            " [2]\n",
            " [4]]\n"
          ]
        }
      ]
    },
    {
      "cell_type": "code",
      "source": [
        "# Add a New Subject: Add scores for a new subject, History, for each student.\n",
        "\n",
        "subject_add = tf.constant([[78],[92],[34],[67],[89]])\n",
        "new_score_updated = tf.concat(values = [score, subject_add], axis = 1)\n",
        "print(new_score_updated)"
      ],
      "metadata": {
        "id": "H50qzWNTC7I8",
        "colab": {
          "base_uri": "https://localhost:8080/"
        },
        "outputId": "e05d555e-4c63-4d59-c38d-8dd75b9f2394"
      },
      "execution_count": 40,
      "outputs": [
        {
          "output_type": "stream",
          "name": "stdout",
          "text": [
            "tf.Tensor(\n",
            "[[85 90 78 78]\n",
            " [72 85 65 92]\n",
            " [90 88 92 34]\n",
            " [60 75 70 67]\n",
            " [95 85 85 89]], shape=(5, 4), dtype=int32)\n"
          ]
        }
      ]
    },
    {
      "cell_type": "code",
      "source": [
        "# Calculate Total Score per Student: Compute the total score for each student across all subjects\n",
        "total_score = tf.reduce_sum(new_score_updated, axis = 1, keepdims =1)\n",
        "print(total_score)"
      ],
      "metadata": {
        "id": "Ma9iKwLzD2hT",
        "colab": {
          "base_uri": "https://localhost:8080/"
        },
        "outputId": "40db01d6-25b0-43bd-ea61-21961717194d"
      },
      "execution_count": 41,
      "outputs": [
        {
          "output_type": "stream",
          "name": "stdout",
          "text": [
            "tf.Tensor(\n",
            "[[331]\n",
            " [314]\n",
            " [304]\n",
            " [272]\n",
            " [354]], shape=(5, 1), dtype=int32)\n"
          ]
        }
      ]
    },
    {
      "cell_type": "code",
      "source": [
        "# Create One-Hot Encoded Representation for Science Scores Above 85\n",
        "science_scores = score[:, 1]\n",
        "students_above_85_science = tf.where(science_scores > 85)\n",
        "one_hot_above_85_science = tf.one_hot(students_above_85_science, depth=3)\n",
        "print(students_above_85_science)\n",
        "print(one_hot_above_85_science)"
      ],
      "metadata": {
        "id": "359-s-LTbGCv",
        "colab": {
          "base_uri": "https://localhost:8080/"
        },
        "outputId": "77e4c72e-800b-4e27-8665-da2f89cfffb7"
      },
      "execution_count": 42,
      "outputs": [
        {
          "output_type": "stream",
          "name": "stdout",
          "text": [
            "tf.Tensor(\n",
            "[[0]\n",
            " [2]], shape=(2, 1), dtype=int64)\n",
            "tf.Tensor(\n",
            "[[[1. 0. 0.]]\n",
            "\n",
            " [[0. 0. 1.]]], shape=(2, 1, 3), dtype=float32)\n"
          ]
        }
      ]
    },
    {
      "cell_type": "code",
      "execution_count": 42,
      "metadata": {
        "id": "7huTr_OkKV-g"
      },
      "outputs": [],
      "source": []
    }
  ]
}